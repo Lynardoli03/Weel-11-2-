{
 "cells": [
  {
   "cell_type": "markdown",
   "id": "8eb7546e",
   "metadata": {},
   "source": [
    "# Programming exercises problem 1"
   ]
  },
  {
   "cell_type": "code",
   "execution_count": 1,
   "id": "1b7cbd33",
   "metadata": {},
   "outputs": [
    {
     "name": "stdout",
     "output_type": "stream",
     "text": [
      "Enter the employee's name: ted\n",
      "Enter the employee number: 517-290-7565\n",
      "Enter the shift number (1 for day, 2 for night): 1\n",
      "Enter the hourly pay rate: 17\n",
      "\n",
      "Employee Details:\n",
      "Name: ted\n",
      "Employee Number: 517-290-7565\n",
      "Shift Number: 1\n",
      "Hourly Pay Rate: $17.00\n"
     ]
    }
   ],
   "source": [
    "class Employee:\n",
    "    def __init__(self, name=\"\", employee_number=0):\n",
    "        self.__name = name\n",
    "        self.__employee_number = employee_number\n",
    "#essentially just giving the inputs and outputs\n",
    "    \n",
    "    def get_name(self):\n",
    "        return self.__name\n",
    "\n",
    "    def get_employee_number(self):\n",
    "        return self.__employee_number\n",
    "\n",
    "    \n",
    "    def set_name(self, name):\n",
    "        self.__name = name\n",
    "\n",
    "    def set_employee_number(self, employee_number):\n",
    "        self.__employee_number = employee_number\n",
    "\n",
    "\n",
    "class ProductionWorker(Employee):\n",
    "    def __init__(self, name=\"\", employee_number=0, shift_number=1, hourly_pay_rate=0.0):\n",
    "        super().__init__(name, employee_number)\n",
    "        self.__shift_number = shift_number\n",
    "        self.__hourly_pay_rate = hourly_pay_rate\n",
    "\n",
    "    # I am assigning each input to something\n",
    "    def get_shift_number(self):\n",
    "        return self.__shift_number\n",
    "\n",
    "    def get_hourly_pay_rate(self):\n",
    "        return self.__hourly_pay_rate\n",
    "\n",
    "    # this is what would come out when you answer the questions/ the options\n",
    "    def set_shift_number(self, shift_number):\n",
    "        if shift_number in [1, 2]:  # Made sure they could only choose between shift 1 or 2\n",
    "            self.__shift_number = shift_number\n",
    "        else:\n",
    "            raise ValueError(\"Shift number must be 1 (day) or 2 (night).\")\n",
    "\n",
    "    def set_hourly_pay_rate(self, hourly_pay_rate):\n",
    "        self.__hourly_pay_rate = hourly_pay_rate\n",
    "\n",
    "\n",
    "# Main program\n",
    "def main():\n",
    "    # Get input from user\n",
    "    name = input(\"Enter the employee's name: \")\n",
    "    employee_number = input(\"Enter the employee number: \")\n",
    "    shift_number = int(input(\"Enter the shift number (1 for day, 2 for night): \"))\n",
    "    hourly_pay_rate = float(input(\"Enter the hourly pay rate: \"))\n",
    "\n",
    "    # Made a scenario with the code\n",
    "    worker = ProductionWorker(name, employee_number, shift_number, hourly_pay_rate)\n",
    "    # Showing the information\n",
    "    print(\"\\nEmployee Details:\")\n",
    "    print(\"Name:\", worker.get_name())\n",
    "    print(\"Employee Number:\", worker.get_employee_number())\n",
    "    print(\"Shift Number:\", worker.get_shift_number())\n",
    "    print(\"Hourly Pay Rate: ${:.2f}\".format(worker.get_hourly_pay_rate()))\n",
    "\n",
    "if __name__ == \"__main__\":      #runs the program\n",
    "    main()\n"
   ]
  },
  {
   "cell_type": "markdown",
   "id": "0c2a6146",
   "metadata": {},
   "source": [
    "# Programming exercises problem 2"
   ]
  },
  {
   "cell_type": "code",
   "execution_count": 2,
   "id": "0bb7ef7d",
   "metadata": {},
   "outputs": [
    {
     "name": "stdout",
     "output_type": "stream",
     "text": [
      "Enter the supervisor's name: ron\n",
      "Enter the supervisor's employee number: 5177643329\n",
      "Enter the supervisor's annual salary ($): 120\n",
      "Enter the supervisor's potential annual bonus ($): 500\n",
      "\n",
      "Shift Supervisor's Information:\n",
      "Name: ron\n",
      "Employee Number: 5177643329\n",
      "Annual Salary: $120.00\n",
      "Annual Bonus: $500.00\n"
     ]
    }
   ],
   "source": [
    "class Employee:\n",
    "    def __init__(self, name=\"\", employee_number=0):\n",
    "        self.__name = name\n",
    "        self.__employee_number = employee_number\n",
    "\n",
    "    def get_name(self):    # assigniing the answer the user writes to the correct prompt\n",
    "        return self.__name\n",
    "\n",
    "    def get_employee_number(self):\n",
    "        return self.__employee_number\n",
    "\n",
    "    def set_name(self, name):\n",
    "        self.__name = name\n",
    "\n",
    "    def set_employee_number(self, employee_number):\n",
    "        self.__employee_number = employee_number\n",
    "\n",
    "class ShiftSupervisor(Employee):\n",
    "    def __init__(self, name=\"\", employee_number=0, annual_salary=0.0, annual_bonus=0.0):   #  these are the formulas to compute the totals\n",
    "        super().__init__(name, employee_number)\n",
    "        self.__annual_salary = annual_salary\n",
    "        self.__annual_bonus = annual_bonus\n",
    "\n",
    "    def get_annual_salary(self):\n",
    "        return self.__annual_salary\n",
    "\n",
    "    def get_annual_bonus(self):\n",
    "        return self.__annual_bonus\n",
    "\n",
    "    def set_annual_salary(self, annual_salary):\n",
    "        self.__annual_salary = annual_salary\n",
    "\n",
    "    def set_annual_bonus(self, annual_bonus):\n",
    "        self.__annual_bonus = annual_bonus\n",
    "\n",
    "def main():\n",
    "    # Create an instance of ShiftSupervisor with data entered by the user\n",
    "    name = input(\"Enter the supervisor's name: \")\n",
    "    employee_number = input(\"Enter the supervisor's employee number: \")\n",
    "    annual_salary = float(input(\"Enter the supervisor's annual salary ($): \"))\n",
    "    annual_bonus = float(input(\"Enter the supervisor's potential annual bonus ($): \"))\n",
    "\n",
    "    supervisor = ShiftSupervisor(name, employee_number, annual_salary, annual_bonus)\n",
    "\n",
    "    # Displaying supervisor's information\n",
    "    print(\"\\nShift Supervisor's Information:\")\n",
    "    print(\"Name:\", supervisor.get_name())\n",
    "    print(\"Employee Number:\", supervisor.get_employee_number())\n",
    "    print(\"Annual Salary: ${:,.2f}\".format(supervisor.get_annual_salary()))\n",
    "    print(\"Annual Bonus: ${:,.2f}\".format(supervisor.get_annual_bonus()))\n",
    "\n",
    "if __name__ == \"__main__\":   #This line will run the code\n",
    "    main()\n"
   ]
  },
  {
   "cell_type": "code",
   "execution_count": null,
   "id": "9d237251",
   "metadata": {},
   "outputs": [],
   "source": []
  }
 ],
 "metadata": {
  "kernelspec": {
   "display_name": "Python 3 (ipykernel)",
   "language": "python",
   "name": "python3"
  },
  "language_info": {
   "codemirror_mode": {
    "name": "ipython",
    "version": 3
   },
   "file_extension": ".py",
   "mimetype": "text/x-python",
   "name": "python",
   "nbconvert_exporter": "python",
   "pygments_lexer": "ipython3",
   "version": "3.11.7"
  }
 },
 "nbformat": 4,
 "nbformat_minor": 5
}
